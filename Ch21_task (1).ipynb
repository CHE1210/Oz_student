{
  "cells": [
    {
      "cell_type": "markdown",
      "metadata": {
        "id": "cMT4FqKyZmk8"
      },
      "source": [
        "안녕하세요. 수강생 여러분~! Chapter21 ~ 32 수업은 잘 들으셨나요?\n",
        "\n",
        "Chapter21 ~ 32의 수업 내용을 바탕으로 아래 문제를 풀어주시면 됩니다.\n",
        "\n",
        "\n",
        "<br>\n",
        "\n",
        "\n",
        "[**답변 입력 방법**]\n",
        "\n",
        "문제 아래에 있는 코드 입력창에 정답코드를 작성하신 후  __▷ 버튼을 클릭해 코드를 실행__ 해보세요<br>"
      ]
    },
    {
      "cell_type": "markdown",
      "metadata": {
        "id": "yWgM3_LoZmk_"
      },
      "source": [
        "---"
      ]
    },
    {
      "cell_type": "markdown",
      "metadata": {
        "id": "RAIJDEztZmk_"
      },
      "source": [
        "[문제 1]\n",
        "사용자로부터 이름과 나이를 입력 받아, \"안녕하세요, [이름]님! 당신은 [나이]살입니다.\"라고 출력하는 함수 greet_user를 작성하세요."
      ]
    },
    {
      "cell_type": "code",
      "source": [
        "def greet_user():\n",
        "    name = input(\"이름을 입력하세요: \")\n",
        "    age = input(\"나이를 입력하세요: \")\n",
        "    print(f\"안녕하세요, {name}님! 당신은 {age}살입니다.\")\n",
        "\n",
        "greet_user()"
      ],
      "metadata": {
        "colab": {
          "base_uri": "https://localhost:8080/"
        },
        "id": "rr1PQeLKZ-F4",
        "outputId": "a02c1671-9ac7-45ca-9a8b-1bfb47d768d9"
      },
      "execution_count": 1,
      "outputs": [
        {
          "output_type": "stream",
          "name": "stdout",
          "text": [
            "이름을 입력하세요: 이채희\n",
            "나이를 입력하세요: 21\n",
            "안녕하세요, 이채희님! 당신은 21살입니다.\n"
          ]
        }
      ]
    },
    {
      "cell_type": "markdown",
      "metadata": {
        "id": "jO7FyTKrZmlA"
      },
      "source": [
        "---"
      ]
    },
    {
      "cell_type": "markdown",
      "metadata": {
        "id": "tKHgLyvpZmlA"
      },
      "source": [
        "[문제 2] 여러 숫자를 입력받아 그 합계를 반환하는 함수 sum_numbers를 작성하세요. 이 때, 가변 매개변수를 사용하세요."
      ]
    },
    {
      "cell_type": "code",
      "source": [
        "def sum_numbers(*nums):\n",
        "    return sum(nums)\n",
        "\n",
        "result = sum_numbers(1, 2, 3, 4, 5)\n",
        "print(\"합계:\", result)"
      ],
      "metadata": {
        "colab": {
          "base_uri": "https://localhost:8080/"
        },
        "id": "GfAZH2P1aF_D",
        "outputId": "e7323147-82cc-4b69-9bc4-8f57bcda7064"
      },
      "execution_count": 3,
      "outputs": [
        {
          "output_type": "stream",
          "name": "stdout",
          "text": [
            "합계: 15\n"
          ]
        }
      ]
    },
    {
      "cell_type": "markdown",
      "metadata": {
        "id": "45bUFjtsZmlB"
      },
      "source": [
        "---"
      ]
    },
    {
      "cell_type": "markdown",
      "metadata": {
        "id": "XBOu6trzZmlB"
      },
      "source": [
        "[문제 3] 사용자의 이름을 출력하는 함수 print_name을 작성하세요. 만약 이름이 주어지지 않았다면, 기본값으로 \"익명\"을 사용하세요."
      ]
    },
    {
      "cell_type": "code",
      "source": [
        "def print_name(name=\"익명\"):\n",
        "    print(\"안녕하세요, \" + name + \"님!\")\n",
        "\n",
        "print_name(\"이채희\")\n",
        "print_name()"
      ],
      "metadata": {
        "colab": {
          "base_uri": "https://localhost:8080/"
        },
        "id": "x4DvEMnPaGy6",
        "outputId": "8602db6b-c1e8-4fe7-a452-60b308c29217"
      },
      "execution_count": 5,
      "outputs": [
        {
          "output_type": "stream",
          "name": "stdout",
          "text": [
            "안녕하세요, 홍길동님!\n",
            "안녕하세요, 익명님!\n"
          ]
        }
      ]
    },
    {
      "cell_type": "markdown",
      "metadata": {
        "id": "XUmC_m9NZmlB"
      },
      "source": [
        "---"
      ]
    },
    {
      "cell_type": "markdown",
      "metadata": {
        "id": "ypBCTw7GZmlB"
      },
      "source": [
        "[문제 4] 사용자의 이름, 나이, 성별을 출력하는 함수 print_info를 작성하세요. 이 때, 모든 매개변수는 키워드 매개변수로만 받도록 하세요."
      ]
    },
    {
      "cell_type": "code",
      "source": [
        "def print_info(*, name, age, gender):\n",
        "    print(f\"{name}, {age}세, {gender}\")\n",
        "\n",
        "print_info(name=\"이채희\", age=21, gender=\"여자\")"
      ],
      "metadata": {
        "id": "VHwjZb8eaIYl"
      },
      "execution_count": 7,
      "outputs": []
    },
    {
      "cell_type": "markdown",
      "metadata": {
        "id": "z5JdK7PaZmlC"
      },
      "source": [
        "---"
      ]
    },
    {
      "cell_type": "markdown",
      "metadata": {
        "id": "bXUFTo6BZmlC"
      },
      "source": [
        "[문제 5] 두 개의 정수를 받아 합을 반환하는 함수 add를 작성하세요. 매개변수와 반환값에 타입 어노테이션을 추가하세요."
      ]
    },
    {
      "cell_type": "code",
      "source": [
        "def add(a: int, b: int) -> int:\n",
        "    return a + b\n",
        "\n",
        "result = add(4, 5)\n",
        "print(result)"
      ],
      "metadata": {
        "colab": {
          "base_uri": "https://localhost:8080/"
        },
        "id": "VTV9EVydaMNx",
        "outputId": "7d6ee5fa-8a23-4a0d-a5e9-c82bb473d8e4"
      },
      "execution_count": 8,
      "outputs": [
        {
          "output_type": "stream",
          "name": "stdout",
          "text": [
            "8\n"
          ]
        }
      ]
    },
    {
      "cell_type": "markdown",
      "metadata": {
        "id": "Nv6L4ALuZmlC"
      },
      "source": [
        "---"
      ]
    },
    {
      "cell_type": "markdown",
      "metadata": {
        "id": "kKo4fKWLZmlC"
      },
      "source": [
        "[문제 6] 0부터 시작하여 n까지의 숫자 중에서 홀수만 생성하는 제너레이터 odd_numbers를 작성하세요."
      ]
    },
    {
      "cell_type": "code",
      "source": [
        "def odd_numbers(n):\n",
        "    for i in range(n + 1):\n",
        "        if i % 2 == 1:\n",
        "            yield i\n",
        "\n",
        "for num in odd_numbers(10):\n",
        "    print(num, end=' ')"
      ],
      "metadata": {
        "colab": {
          "base_uri": "https://localhost:8080/"
        },
        "id": "hUPQEeJmaNLf",
        "outputId": "d86563c1-a633-4c81-e642-182a2dc14ace"
      },
      "execution_count": 13,
      "outputs": [
        {
          "output_type": "stream",
          "name": "stdout",
          "text": [
            "1 3 5 7 9 "
          ]
        }
      ]
    },
    {
      "cell_type": "markdown",
      "metadata": {
        "id": "k3ju3BnNZmlC"
      },
      "source": [
        "---"
      ]
    },
    {
      "cell_type": "markdown",
      "metadata": {
        "id": "5ProyiozZmlC"
      },
      "source": [
        "[문제 7] 두 숫자를 더하는 람다 함수를 작성하고, 이를 변수에 할당한 후 사용하세요."
      ]
    },
    {
      "cell_type": "code",
      "source": [
        "add = lambda x, y: x + y\n",
        "\n",
        "result = add(3, 4)\n",
        "print(result)"
      ],
      "metadata": {
        "colab": {
          "base_uri": "https://localhost:8080/"
        },
        "id": "WOjpEWBJaPA3",
        "outputId": "c93b5752-b062-4de0-8f7c-3d921cf39bd9"
      },
      "execution_count": 14,
      "outputs": [
        {
          "output_type": "stream",
          "name": "stdout",
          "text": [
            "7\n"
          ]
        }
      ]
    },
    {
      "cell_type": "markdown",
      "metadata": {
        "id": "KwKaCVdXZmlC"
      },
      "source": [
        "---"
      ]
    },
    {
      "cell_type": "markdown",
      "metadata": {
        "id": "Z5F0crXJZmlC"
      },
      "source": [
        "[문제 8] 사용자로부터 3개의 숫자를 입력받아, 이를 튜플로 만든 후 최소값과 최대값을 출력하는 함수 min_max를 작성하세요."
      ]
    },
    {
      "cell_type": "code",
      "source": [
        "def min_max():\n",
        "    num = list(map(int, input(\"3개의 숫자를 입력하세요: \").split()))\n",
        "    print(\"최소값:\", min(num), \"최대값:\", max(num))\n",
        "\n",
        "min_max()"
      ],
      "metadata": {
        "colab": {
          "base_uri": "https://localhost:8080/"
        },
        "id": "hFNjpQrkaRIm",
        "outputId": "1c42e09a-7f57-4880-ac11-c9ac0617dff5"
      },
      "execution_count": 46,
      "outputs": [
        {
          "output_type": "stream",
          "name": "stdout",
          "text": [
            "3개의 숫자를 입력하세요: 1 2 3\n",
            "최소값: 1 최대값: 3\n"
          ]
        }
      ]
    },
    {
      "cell_type": "markdown",
      "metadata": {
        "id": "O22ltHj4ZmlC"
      },
      "source": [
        "---"
      ]
    },
    {
      "cell_type": "markdown",
      "metadata": {
        "id": "FNyLhiIhZmlC"
      },
      "source": [
        "[문제 9] 주어진 숫자가 짝수인지 확인하는 함수 is_even을 작성하세요. 짝수라면 True를, 아니라면 False를 반환하세요. 함수 내에서 조기 리턴을 활용하세요."
      ]
    },
    {
      "cell_type": "code",
      "source": [
        "def is_even(num):\n",
        "    if num % 2 == 0:\n",
        "        return True\n",
        "    else:\n",
        "        return False\n",
        "\n",
        "result = is_even(7)\n",
        "print(result)"
      ],
      "metadata": {
        "colab": {
          "base_uri": "https://localhost:8080/"
        },
        "id": "2fZxcVFnaR1t",
        "outputId": "ef142c4f-9b1f-415f-a954-778b0cd0a79a"
      },
      "execution_count": 47,
      "outputs": [
        {
          "output_type": "stream",
          "name": "stdout",
          "text": [
            "False\n"
          ]
        }
      ]
    },
    {
      "cell_type": "markdown",
      "metadata": {
        "id": "CC54DNC9ZmlD"
      },
      "source": [
        "---"
      ]
    },
    {
      "cell_type": "markdown",
      "metadata": {
        "id": "bHv2ZpbFZmlD"
      },
      "source": [
        "[문제 10] 팩토리얼을 계산하는 재귀 함수 factorial을 작성하세요."
      ]
    },
    {
      "cell_type": "code",
      "source": [
        "# def factorial(n):\n",
        "#     if n == 0:\n",
        "#         return 1\n",
        "#     else:\n",
        "#         return n * factorial(n - 1)\n",
        "\n",
        "# result = factorial(5)\n",
        "# print(result)\n",
        "\n",
        "def factorial(n: int) -> int:\n",
        "    if n == 0 or n == 1:\n",
        "        return 1\n",
        "    else:\n",
        "        return n * factorial(n - 1)\n",
        "\n",
        "result = factorial(5)\n",
        "print(result)\n"
      ],
      "metadata": {
        "colab": {
          "base_uri": "https://localhost:8080/"
        },
        "id": "TztSBVULaWuo",
        "outputId": "9d5aad90-4da0-4658-ed31-36924a2bdadd"
      },
      "execution_count": 48,
      "outputs": [
        {
          "output_type": "stream",
          "name": "stdout",
          "text": [
            "120\n"
          ]
        }
      ]
    },
    {
      "cell_type": "markdown",
      "metadata": {
        "id": "DlzAqlMwZmlD"
      },
      "source": [
        "---"
      ]
    },
    {
      "cell_type": "markdown",
      "metadata": {
        "id": "LHI-vV_2ZmlD"
      },
      "source": [
        "[문제 11] 문자열 리스트를 받아, 각 문자열의 길이를 출력하는 함수 print_lengths를 작성하세요."
      ]
    },
    {
      "cell_type": "code",
      "source": [
        "def print_lengths(strings):\n",
        "    for s in strings:\n",
        "        print(len(s))\n",
        "\n",
        "print_lengths([\"apple\", \"banana\", \"cherry\"])"
      ],
      "metadata": {
        "colab": {
          "base_uri": "https://localhost:8080/"
        },
        "id": "FqH3dB8zaXSZ",
        "outputId": "76dc2faf-bcc0-493d-ef96-47fbb30f0aa6"
      },
      "execution_count": 49,
      "outputs": [
        {
          "output_type": "stream",
          "name": "stdout",
          "text": [
            "5\n",
            "6\n",
            "6\n"
          ]
        }
      ]
    },
    {
      "cell_type": "markdown",
      "metadata": {
        "id": "SHuh4I4zZmlD"
      },
      "source": [
        "---"
      ]
    },
    {
      "cell_type": "markdown",
      "metadata": {
        "id": "1vPmYo0BZmlD"
      },
      "source": [
        "[문제 12] 두 문자열을 받아서 긴 문자열을 반환하는 함수 longer_string을 작성하세요. 만약 두 문자열의 길이가 같다면, 첫 번째 문자열을 반환하세요."
      ]
    },
    {
      "cell_type": "code",
      "source": [
        "def long_string(s1, s2):\n",
        "    return s1 if len(s1) > len(s2) else s2\n",
        "\n",
        "result = long_string(\"apple\", \"banana\")\n",
        "print(result)"
      ],
      "metadata": {
        "colab": {
          "base_uri": "https://localhost:8080/"
        },
        "id": "vFzvhO2AaYJG",
        "outputId": "fa5f4437-2036-4849-cf19-073dcdfd1905"
      },
      "execution_count": 51,
      "outputs": [
        {
          "output_type": "stream",
          "name": "stdout",
          "text": [
            "banana\n"
          ]
        }
      ]
    }
  ],
  "metadata": {
    "language_info": {
      "name": "python"
    },
    "colab": {
      "provenance": []
    },
    "kernelspec": {
      "name": "python3",
      "display_name": "Python 3"
    }
  },
  "nbformat": 4,
  "nbformat_minor": 0
}