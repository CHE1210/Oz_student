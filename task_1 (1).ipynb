{
  "cells": [
    {
      "cell_type": "markdown",
      "metadata": {
        "id": "P6iRAQRy7NlS"
      },
      "source": [
        "안녕하세요. 수강생 여러분~! Chapter33 ~ 41 수업은 잘 들으셨나요?\n",
        "\n",
        "Chapter33 ~ 41의 수업 내용을 바탕으로 아래 문제를 풀어주시면 됩니다.\n",
        "\n",
        "\n",
        "<br>\n",
        "\n",
        "\n",
        "[**답변 입력 방법**]\n",
        "\n",
        "문제 아래에 있는 코드 입력창에 정답코드를 작성하신 후  __▷ 버튼을 클릭해 코드를 실행__ 해보세요<br>"
      ]
    },
    {
      "cell_type": "markdown",
      "metadata": {
        "id": "W5kfAfsO7NlV"
      },
      "source": [
        "---"
      ]
    },
    {
      "cell_type": "markdown",
      "metadata": {
        "id": "7KUz6B-U7NlV"
      },
      "source": [
        "[문제 1]\n",
        "\n",
        "사용자로부터 두 개의 숫자를 입력받아 나눗셈을 수행하는 프로그램을 작성하세요.\n",
        "\n",
        "[예외처리]\n",
        "- 입력 값이 숫자가 아닐 때 발생할 수 있는 ValueError\n",
        "- 나누는 수가 0일 때 발생할 수 있는 ZeroDivisionError\n",
        "- 위 2가지 예외처리 후 사용자에게 이해하기 쉬운 메시지 작성 후 출력되도록 코드를 작성"
      ]
    },
    {
      "cell_type": "code",
      "execution_count": 3,
      "metadata": {
        "colab": {
          "base_uri": "https://localhost:8080/"
        },
        "id": "XwPd3xxI7NlV",
        "outputId": "ac9f244d-e53f-44fc-ac24-016ca8dbe46e"
      },
      "outputs": [
        {
          "output_type": "stream",
          "name": "stdout",
          "text": [
            "두 숫자를 띄어쓰기로 입력하세요: 4 2\n",
            "결과: 4.0 ÷ 2.0 = 2.0\n"
          ]
        }
      ],
      "source": [
        "try:\n",
        "    a, b = map(float, input(\"두 숫자를 띄어쓰기로 입력하세요: \").split())\n",
        "    print(f\"결과: {a} ÷ {b} = {a / b}\")\n",
        "except ValueError:\n",
        "    print(\"잘못된 입력입니다. 숫자 두 개를 정확히 입력해주세요.\")\n",
        "except ZeroDivisionError:\n",
        "    print(\"0으로 나눌 수 없습니다.\")"
      ]
    },
    {
      "cell_type": "markdown",
      "metadata": {
        "id": "cZqfQstj7NlV"
      },
      "source": [
        "---"
      ]
    },
    {
      "cell_type": "markdown",
      "metadata": {
        "id": "t_xdXu1U7NlW"
      },
      "source": [
        "[문제 2]\n",
        "\n",
        "파일을 읽어서 내용을 출력하는 프로그램을 작성하세요.\n",
        "\n",
        "- 파일이 존재하지 않을 때 발생하는 FileNotFoundError를 처리\n",
        "- 파일이 존재하지 않을 경우 \"파일을 찾을 수 없습니다.\"라는 메시지를 출력"
      ]
    },
    {
      "cell_type": "code",
      "execution_count": null,
      "metadata": {
        "id": "EDxYXRcP7NlW"
      },
      "outputs": [],
      "source": [
        "ilename = input(\"읽을 파일명을 입력하세요: \")\n",
        "\n",
        "try:\n",
        "    with open(filename, 'r', encoding='utf-8') as file:\n",
        "        content = file.read()\n",
        "        print(\"파일 내용:\")\n",
        "        print(content)\n",
        "except FileNotFoundError:\n",
        "    print(\"파일을 찾을 수 없습니다.\")"
      ]
    },
    {
      "cell_type": "markdown",
      "metadata": {
        "id": "SBfX7bMG7NlW"
      },
      "source": [
        "---"
      ]
    },
    {
      "cell_type": "markdown",
      "metadata": {
        "id": "ep_NdpjS7NlW"
      },
      "source": [
        "[문제 3]\n",
        "\n",
        "사용자로부터 여러 개의 숫자를 입력받아 리스트에 저장한 후, 사용자가 'done'이라고 입력할 때까지 계속 입력받으세요.\n",
        "\n",
        "- 입력 중 숫자가 아닌 값이 입력되면 ValueError를 처리\n",
        "- 숫자 외 값이 입력된 경우 어떤 값이 잘못 입력되었는지 사용자에게 알려주는 문구 출력<br>\n",
        "  (예: f\"잘못된 값: {변수}. 숫자를 입력해주세요.\")\n",
        "\n"
      ]
    },
    {
      "cell_type": "code",
      "execution_count": 4,
      "metadata": {
        "colab": {
          "base_uri": "https://localhost:8080/"
        },
        "id": "-j50yCkV7NlW",
        "outputId": "2f845534-766a-4ee8-ea1f-e696eb92b6e3"
      },
      "outputs": [
        {
          "output_type": "stream",
          "name": "stdout",
          "text": [
            "숫자 입력 (종료: done): ㄴ\n",
            "잘못된 값: 'ㄴ'. 숫자를 입력해주세요.\n",
            "숫자 입력 (종료: done): 1\n",
            "숫자 입력 (종료: done): done\n",
            "입력한 숫자 목록: [1.0]\n"
          ]
        }
      ],
      "source": [
        "nums = []\n",
        "while (s := input(\"숫자 입력 (종료: done): \")) != 'done':\n",
        "    try:\n",
        "        nums.append(float(s))\n",
        "    except ValueError:\n",
        "        print(f\"잘못된 값: '{s}'. 숫자를 입력해주세요.\")\n",
        "print(\"입력한 숫자 목록:\", nums)"
      ]
    },
    {
      "cell_type": "markdown",
      "metadata": {
        "id": "94eIqxtz7NlW"
      },
      "source": [
        "---"
      ]
    },
    {
      "cell_type": "markdown",
      "metadata": {
        "id": "YVp-ZxLa7NlX"
      },
      "source": [
        "[문제 4]\n",
        "\n",
        "사용자 정의 예외 NegativeNumberError를 생성하고, 사용자로부터 숫자를 입력받아 음수일 경우 NegativeNumberError를 발생시키는 프로그램을 작성하세요.\n",
        "\n",
        "- 예외 처리 구문을 사용하여 음수 입력 시 \"양수를 입력해주세요.\"라는 메시지를 출력"
      ]
    },
    {
      "cell_type": "code",
      "execution_count": 5,
      "metadata": {
        "colab": {
          "base_uri": "https://localhost:8080/"
        },
        "id": "NuARQV_N7NlX",
        "outputId": "c941242f-abba-400a-a6b6-4f08d05d18d7"
      },
      "outputs": [
        {
          "output_type": "stream",
          "name": "stdout",
          "text": [
            "숫자 입력: 1\n",
            "입력한 숫자: 1.0\n"
          ]
        }
      ],
      "source": [
        "class NegativeNumberError(Exception): pass\n",
        "\n",
        "try:\n",
        "    n = float(input(\"숫자 입력: \"))\n",
        "    if n < 0: raise NegativeNumberError\n",
        "    print(f\"입력한 숫자: {n}\")\n",
        "except NegativeNumberError:\n",
        "    print(\"양수를 입력해주세요.\")\n",
        "except ValueError:\n",
        "    print(\"숫자를 입력해주세요.\")"
      ]
    },
    {
      "cell_type": "markdown",
      "metadata": {
        "id": "P-s_8KDx7NlX"
      },
      "source": [
        "---"
      ]
    },
    {
      "cell_type": "markdown",
      "metadata": {
        "id": "W5TtUOJh7NlX"
      },
      "source": [
        "[문제 5]\n",
        "\n",
        "datetime 모듈을 사용하여 현재 날짜와 시간을 출력하는 프로그램을 작성하세요.\n",
        "\n",
        "또한, 사용자로부터 태어난 년도를 입력받아 현재 나이를 계산하여 출력하세요."
      ]
    },
    {
      "cell_type": "code",
      "execution_count": 7,
      "metadata": {
        "colab": {
          "base_uri": "https://localhost:8080/"
        },
        "id": "ALDutw6N7NlX",
        "outputId": "0f5fc062-4bea-49f5-8b1a-cf34c3f1a901"
      },
      "outputs": [
        {
          "output_type": "stream",
          "name": "stdout",
          "text": [
            "현재: 2025-06-09 15:35:03\n",
            "태어난 연도: 2005\n",
            "나이: 20세\n"
          ]
        }
      ],
      "source": [
        "from datetime import datetime\n",
        "\n",
        "print(\"현재:\", datetime.now().strftime(\"%Y-%m-%d %H:%M:%S\"))\n",
        "\n",
        "try:\n",
        "    age = datetime.now().year - int(input(\"태어난 연도: \"))\n",
        "    print(f\"나이: {age}세\")\n",
        "except ValueError:\n",
        "    print(\"올바른 숫자를 입력해주세요.\")"
      ]
    },
    {
      "cell_type": "markdown",
      "metadata": {
        "id": "pFsUfJQc7NlX"
      },
      "source": [
        "---"
      ]
    },
    {
      "cell_type": "markdown",
      "metadata": {
        "id": "GxrQVNTf7NlX"
      },
      "source": [
        "[문제 6]\n",
        "\n",
        "requests 모듈을 사용하여, 웹 페이지의 HTML을 가져오는 간단한 웹 스크레이퍼를 작성하세요.\n",
        "\n",
        "'https://kream.co.kr/'에서<br>\n",
        "데이터를 가져와서 상태 코드와 HTML의 첫 100자를 출력하세요.<br>\n",
        "(실습 전 requests 모듈을 설치해야 함)"
      ]
    },
    {
      "cell_type": "code",
      "execution_count": null,
      "metadata": {
        "id": "gRNL8SBH7NlX"
      },
      "outputs": [],
      "source": []
    },
    {
      "cell_type": "markdown",
      "metadata": {
        "id": "-iOKAVTI7NlX"
      },
      "source": [
        "---"
      ]
    },
    {
      "cell_type": "markdown",
      "metadata": {
        "id": "wMBjWqP17NlX"
      },
      "source": [
        "[문제 7]\n",
        "\n",
        "함수 실행 시간을 측정하는 데코레이터 timer_decorator를 작성하세요.\n",
        "\n",
        "임의의 함수가 실행되는 시간을 측정하여 \"함수 실행 시간: x.xx초\" 형태로 출력하세요."
      ]
    },
    {
      "cell_type": "code",
      "execution_count": 9,
      "metadata": {
        "colab": {
          "base_uri": "https://localhost:8080/"
        },
        "id": "FexlgJJH7NlX",
        "outputId": "7b5705a0-6750-4189-e7b4-43aed9b06fff"
      },
      "outputs": [
        {
          "output_type": "stream",
          "name": "stdout",
          "text": [
            "함수 실행 시간: 1.00초\n"
          ]
        }
      ],
      "source": [
        "import time\n",
        "\n",
        "def timer_decorator(f):\n",
        "    def w(*a, **kw):\n",
        "        s = time.time()\n",
        "        r = f(*a, **kw)\n",
        "        print(f\"함수 실행 시간: {time.time() - s:.2f}초\")\n",
        "        return r\n",
        "    return w\n",
        "\n",
        "@timer_decorator\n",
        "def test():\n",
        "    time.sleep(1)\n",
        "\n",
        "test()"
      ]
    },
    {
      "cell_type": "markdown",
      "metadata": {
        "id": "Jbchw-Ms7NlX"
      },
      "source": [
        "---"
      ]
    },
    {
      "cell_type": "markdown",
      "metadata": {
        "id": "vnsYqoAR7NlX"
      },
      "source": [
        "[문제 8]\n",
        "\n",
        "여러분이 자주 사용하는 수학적 연산<br>\n",
        "(예: 삼각형 넓이, 원의 넓이, 직육면체의 넓이)을 수행하는 함수들을 포함하는 mymath.py라는 이름의 모듈을 만드세요.\n",
        "\n",
        "이 모듈을 사용하여 작성된 함수들을 실제로 임포트하고 사용하는 간단한 프로그램을 작성하세요."
      ]
    },
    {
      "cell_type": "code",
      "execution_count": 12,
      "metadata": {
        "id": "2XC_DoG67NlX"
      },
      "outputs": [],
      "source": [
        "## Colab으로 해가지구 어려워여"
      ]
    },
    {
      "cell_type": "code",
      "execution_count": 14,
      "metadata": {
        "id": "brPavJ037NlX"
      },
      "outputs": [],
      "source": [
        "import math\n",
        "\n",
        "def triangle_area(base, height):\n",
        "    return 0.5 * base * height\n",
        "\n",
        "def circle_area(radius):\n",
        "    return math.pi * radius ** 2\n",
        "\n",
        "def cuboid_surface_area(length, width, height):\n",
        "    return 2 * (length * width + width * height + height * length)"
      ]
    },
    {
      "cell_type": "markdown",
      "metadata": {
        "id": "RNTgXktj7NlY"
      },
      "source": [
        "---"
      ]
    },
    {
      "cell_type": "markdown",
      "metadata": {
        "id": "wgKareDr7NlY"
      },
      "source": [
        "[문제 9]\n",
        "\n",
        "animals라는 패키지를 만들고, 이 패키지 내에 mammals, birds라는 두 개의 서브 모듈을 생성하세요.\n",
        "\n",
        "- 각 모듈에는 최소한 한 개 이상의 동물에 관한 클래스를 정의하세요<br>\n",
        "  (예: mammals에는 Dog, birds에는 Eagle)\n",
        "- 이 패키지와 모듈을 사용하여 동물들의 정보를 출력하는 프로그램을 작성\n",
        "\n",
        "폴더 및 파일 구조\n",
        "```\n",
        "animals/(폴더)\n",
        "├── __init__.py\n",
        "├── mammals.py\n",
        "└── birds.py\n",
        "```\n"
      ]
    },
    {
      "cell_type": "code",
      "execution_count": null,
      "metadata": {
        "id": "XgcEehCf7NlY"
      },
      "outputs": [],
      "source": [
        "class Dog:\n",
        "    def __init__(self, name):\n",
        "        self.name = name\n",
        "\n",
        "    def speak(self):\n",
        "        return f\"{self.name} says: 멍멍!\""
      ]
    },
    {
      "cell_type": "code",
      "execution_count": null,
      "metadata": {
        "id": "ruuhUo7K7NlY"
      },
      "outputs": [],
      "source": [
        "class Eagle:\n",
        "    def __init__(self, name):\n",
        "        self.name = name\n",
        "\n",
        "    def fly(self):\n",
        "        return f\"{self.name} is soaring high in the sky!\""
      ]
    },
    {
      "cell_type": "code",
      "execution_count": null,
      "metadata": {
        "id": "KKahf4Zh7NlY"
      },
      "outputs": [],
      "source": []
    },
    {
      "cell_type": "markdown",
      "metadata": {
        "id": "JNXfuU6f7NlY"
      },
      "source": [
        "---"
      ]
    }
  ],
  "metadata": {
    "language_info": {
      "name": "python"
    },
    "colab": {
      "provenance": []
    },
    "kernelspec": {
      "name": "python3",
      "display_name": "Python 3"
    }
  },
  "nbformat": 4,
  "nbformat_minor": 0
}